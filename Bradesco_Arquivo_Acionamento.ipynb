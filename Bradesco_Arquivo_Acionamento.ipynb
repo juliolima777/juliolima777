{
 "cells": [
  {
   "cell_type": "code",
   "execution_count": 1,
   "id": "1c3daf84",
   "metadata": {
    "scrolled": false
   },
   "outputs": [
    {
     "name": "stdout",
     "output_type": "stream",
     "text": [
      "Loading file OCU100.D141021_H024649\n"
     ]
    }
   ],
   "source": [
    "import pandas as pd\n",
    "import os\n",
    "import shutil\n",
    "\n",
    "path = '//aecstrgisilon1/Planejamento_Ativos/BRADESCO EAVM/Relatórios IBI'\n",
    "\n",
    "files = os.listdir(path)\n",
    "\n",
    "\n",
    "for a in files:\n",
    "    if 'OCU100.D' in a:\n",
    "        print(f'Loading file {a}')\n",
    "        df = pd.read_fwf(f'{path}\\{a}')\n",
    "        #create a new dataframe with collumn i\n",
    "        new_df = df['i']\n",
    "        \n",
    "        errLinhas = 0\n",
    "        for x in new_df:\n",
    "            if ' 50' in x[1:6]:\n",
    "                contrato = x[11:30]\n",
    "                marcacao = x[56:59]\n",
    "                code = x[60:64]\n",
    "                data = x[104:114]\n",
    "                \n",
    "                arquivo = open('novo_arquivoacionamento.txt','a')\n",
    "                arquivo.write(f'{contrato};{marcacao};{code};{data}'+'\\n')\n",
    "                \n",
    "                arquivo.close()\n",
    "        shutil.move(f'{path}\\{a}',f'//aecstrgisilon1/Planejamento_Ativos/BRADESCO EAVM/Relatórios IBI/Processed\\{a}')\n",
    "\n",
    "#df = pd.read_fwf('OCU100.txt')\n",
    "\n",
    "#print (df.info())"
   ]
  },
  {
   "cell_type": "code",
   "execution_count": null,
   "id": "7b7f7625",
   "metadata": {},
   "outputs": [],
   "source": []
  }
 ],
 "metadata": {
  "kernelspec": {
   "display_name": "Python 3",
   "language": "python",
   "name": "python3"
  },
  "language_info": {
   "codemirror_mode": {
    "name": "ipython",
    "version": 3
   },
   "file_extension": ".py",
   "mimetype": "text/x-python",
   "name": "python",
   "nbconvert_exporter": "python",
   "pygments_lexer": "ipython3",
   "version": "3.8.8"
  }
 },
 "nbformat": 4,
 "nbformat_minor": 5
}
