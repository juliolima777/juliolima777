{
 "cells": [
  {
   "cell_type": "code",
   "execution_count": 1,
   "id": "af4d9c64",
   "metadata": {},
   "outputs": [],
   "source": [
    "import pandas as pd\n",
    "import os\n",
    "import shutil\n",
    "import numpy as np\n",
    "import pyodbc\n",
    "from sqlalchemy import create_engine, event\n",
    "from urllib.parse import quote_plus"
   ]
  },
  {
   "cell_type": "code",
   "execution_count": 2,
   "id": "82d3e1fd",
   "metadata": {},
   "outputs": [],
   "source": [
    "#Variables SQL Conection\n",
    "server = 'PRIMNO3' \n",
    "database = 'cobmailing' \n",
    "username = 'Plan_pass' \n",
    "password = 'pass(plan)'  \n",
    "#Set Sql Conection\n",
    "cnxn = pyodbc.connect('DRIVER={SQL Server};SERVER='+server+';DATABASE='+database+';trusted_connection=true')\n",
    "                      #UID='+username+';PWD='+ password) #If you wanna use SQL autentication, use this line\n",
    "cursor = cnxn.cursor()"
   ]
  },
  {
   "cell_type": "code",
   "execution_count": 3,
   "id": "34ae9415",
   "metadata": {},
   "outputs": [
    {
     "name": "stdout",
     "output_type": "stream",
     "text": [
      "Loading file Cartão_AEC_Parcial_Setembro.xlsx\n"
     ]
    },
    {
     "name": "stderr",
     "output_type": "stream",
     "text": [
      "C:\\Users\\julio.lima\\Anaconda3\\lib\\site-packages\\openpyxl\\styles\\stylesheet.py:221: UserWarning: Workbook contains no default style, apply openpyxl's default\n",
      "  warn(\"Workbook contains no default style, apply openpyxl's default\")\n"
     ]
    }
   ],
   "source": [
    "path = '//aecstrgisilon1/Planejamento_Ativos/BRADESCO EAVM/Base Telec'\n",
    "\n",
    "files = os.listdir(path)\n",
    "\n",
    "for a in files:\n",
    "    if 'Cartão_AEC_Parcial_Setembro' in a:\n",
    "        print(f'Loading file {a}')\n",
    "        df = pd.read_excel(f'{path}\\{a}')\n",
    "                \n",
    "\n",
    "        shutil.move(f'{path}\\{a}',f'//aecstrgisilon1/Planejamento_Ativos/BRADESCO EAVM/Base Telec/Processed\\{a}')\n"
   ]
  },
  {
   "cell_type": "code",
   "execution_count": 4,
   "id": "b9228905",
   "metadata": {},
   "outputs": [],
   "source": [
    "#Conection that push dataframe to SQL Server\n",
    "conn =  'DRIVER={SQL Server};SERVER='+server+';DATABASE='+database+';trusted_connection=true'\n",
    "quoted = quote_plus(conn)\n",
    "new_con = 'mssql+pyodbc:///?odbc_connect={}'.format(quoted)\n",
    "engine = create_engine(new_con)"
   ]
  },
  {
   "cell_type": "code",
   "execution_count": 5,
   "id": "2ae82ed4",
   "metadata": {},
   "outputs": [],
   "source": [
    "df.to_sql('Bradesco_Pagamento_Eavm', engine, if_exists='append', chunksize = None) #push"
   ]
  },
  {
   "cell_type": "code",
   "execution_count": null,
   "id": "3b91222d",
   "metadata": {},
   "outputs": [],
   "source": []
  }
 ],
 "metadata": {
  "kernelspec": {
   "display_name": "Python 3",
   "language": "python",
   "name": "python3"
  },
  "language_info": {
   "codemirror_mode": {
    "name": "ipython",
    "version": 3
   },
   "file_extension": ".py",
   "mimetype": "text/x-python",
   "name": "python",
   "nbconvert_exporter": "python",
   "pygments_lexer": "ipython3",
   "version": "3.8.8"
  }
 },
 "nbformat": 4,
 "nbformat_minor": 5
}
