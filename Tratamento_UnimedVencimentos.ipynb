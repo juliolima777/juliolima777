{
 "cells": [
  {
   "cell_type": "code",
   "execution_count": 1,
   "id": "fe57cb8c",
   "metadata": {},
   "outputs": [],
   "source": [
    "#Importar Bibliotecas\n",
    "import numpy as np\n",
    "import pandas as pd\n",
    "import pyodbc\n",
    "\n",
    "#Variáveis de conexão SQL\n",
    "server = 'PRIMNO3' \n",
    "database = 'cobmailing' \n",
    "username = '######' \n",
    "password = '######'  \n",
    "#estabelece a conexão SQL\n",
    "cnxn = pyodbc.connect('DRIVER={SQL Server};SERVER='+server+';DATABASE='+database+';trusted_connection=true')\n",
    "                      #UID='+username+';PWD='+ password) #Usar essa linha caso for usar autenticação do SQL\n",
    "cursor = cnxn.cursor()\n",
    "\n"
   ]
  },
  {
   "cell_type": "code",
   "execution_count": 2,
   "id": "cef1d32e",
   "metadata": {
    "scrolled": true
   },
   "outputs": [
    {
     "name": "stderr",
     "output_type": "stream",
     "text": [
      "C:\\Users\\julio.lima\\Anaconda3\\lib\\site-packages\\openpyxl\\styles\\stylesheet.py:221: UserWarning: Workbook contains no default style, apply openpyxl's default\n",
      "  warn(\"Workbook contains no default style, apply openpyxl's default\")\n"
     ]
    },
    {
     "name": "stdout",
     "output_type": "stream",
     "text": [
      "Arquivo carregado...\n"
     ]
    }
   ],
   "source": [
    "#carregar o arquivo excel\n",
    "df1 = pd.read_excel('Negociacao_Cliente.xlsx', engine=\"openpyxl\")\n",
    "print('Arquivo carregado...')"
   ]
  },
  {
   "cell_type": "code",
   "execution_count": 3,
   "id": "3e05d2ea",
   "metadata": {},
   "outputs": [
    {
     "name": "stdout",
     "output_type": "stream",
     "text": [
      "        COD_CLIENTE     ID_PESSOA      ID_CONTR     QTD_NEGOC  VLR_ORIGINAL  \\\n",
      "count  2.372000e+04  2.372000e+04  2.372000e+04  23720.000000  23720.000000   \n",
      "mean   1.190222e+06  3.098357e+06  8.031129e+05      1.794351   1395.915494   \n",
      "std    4.454923e+05  2.398905e+06  3.431832e+05      0.956291   1803.102134   \n",
      "min    1.206000e+03  2.570000e+02  6.600000e+01      1.000000      0.780000   \n",
      "25%    9.853275e+05  9.588440e+05  5.388672e+05      1.000000    488.335000   \n",
      "50%    1.305828e+06  2.728951e+06  9.261090e+05      2.000000    909.440000   \n",
      "75%    1.543630e+06  4.380311e+06  1.100282e+06      2.000000   1681.147500   \n",
      "max    1.689809e+06  7.865113e+06  1.201688e+06     13.000000  83880.070000   \n",
      "\n",
      "       VLR_NEGOCIADO       USUARIO  TEMPO_CARTEIRA     QTD_VIDAS  \n",
      "count    3915.000000  23720.000000    23546.000000  23720.000000  \n",
      "mean     1048.147706   2827.614460     3192.877049      3.024368  \n",
      "std      1413.982630    404.522639     2369.865708      2.969922  \n",
      "min        55.180000   1013.000000       17.000000      0.000000  \n",
      "25%       355.045000   2769.000000     1217.250000      2.000000  \n",
      "50%       648.540000   2918.000000     2629.000000      2.000000  \n",
      "75%      1279.710000   2999.000000     4691.000000      4.000000  \n",
      "max     33122.040000   3206.000000    12766.000000     58.000000  \n"
     ]
    }
   ],
   "source": [
    "#descreve os tipos de dados das colunas\n",
    "print(df1.describe())"
   ]
  },
  {
   "cell_type": "code",
   "execution_count": 4,
   "id": "8e758fd1",
   "metadata": {},
   "outputs": [
    {
     "name": "stdout",
     "output_type": "stream",
     "text": [
      "Conversão realizada...\n"
     ]
    }
   ],
   "source": [
    "#Conversão de dados para Inteiro\n",
    "df1['NUM_CARTEIRA'] = df1['NUM_CARTEIRA'].apply(lambda x: str(x).replace(\"*\",\"\"))\n",
    "print('Conversão realizada...')\n",
    "df1['NUM_CARTEIRA'] = df1['NUM_CARTEIRA'].astype('int64')"
   ]
  },
  {
   "cell_type": "code",
   "execution_count": 5,
   "id": "41485c54",
   "metadata": {},
   "outputs": [
    {
     "name": "stdout",
     "output_type": "stream",
     "text": [
      "<class 'pandas.core.frame.DataFrame'>\n",
      "RangeIndex: 23720 entries, 0 to 23719\n",
      "Data columns (total 17 columns):\n",
      " #   Column                    Non-Null Count  Dtype         \n",
      "---  ------                    --------------  -----         \n",
      " 0   NUM_CARTEIRA              23720 non-null  int64         \n",
      " 1   NOM_CLIENTE               23720 non-null  object        \n",
      " 2   COD_CLIENTE               23720 non-null  int64         \n",
      " 3   ID_PESSOA                 23720 non-null  int64         \n",
      " 4   ID_CONTR                  23720 non-null  int64         \n",
      " 5   DT_CAD_CLIENTE            23720 non-null  datetime64[ns]\n",
      " 6   DT_GERACAO                23720 non-null  datetime64[ns]\n",
      " 7   DT_VENC_TITULO_MAIS_NOVO  23720 non-null  datetime64[ns]\n",
      " 8   DT_VENC_ENTRADA           23720 non-null  datetime64[ns]\n",
      " 9   DT_VENC_ULTIMA_PARCELA    23720 non-null  datetime64[ns]\n",
      " 10  QTD_NEGOC                 23720 non-null  int64         \n",
      " 11  VLR_ORIGINAL              23720 non-null  float64       \n",
      " 12  VLR_NEGOCIADO             3915 non-null   float64       \n",
      " 13  FORMA_REAJUSTE            20235 non-null  object        \n",
      " 14  USUARIO                   23720 non-null  int64         \n",
      " 15  TEMPO_CARTEIRA            23546 non-null  float64       \n",
      " 16  QTD_VIDAS                 23720 non-null  int64         \n",
      "dtypes: datetime64[ns](5), float64(3), int64(7), object(2)\n",
      "memory usage: 3.1+ MB\n"
     ]
    }
   ],
   "source": [
    "df1.info()\n",
    "#dt_promess = dt_filter.assign(NUM_CARTEIRA = (dt_filter1['NUM_CARTEIRA']))"
   ]
  },
  {
   "cell_type": "code",
   "execution_count": 6,
   "id": "29fcd807",
   "metadata": {
    "scrolled": false
   },
   "outputs": [],
   "source": [
    "#Executa a consulta SQL para carregar os dados do mailing\n",
    "texto = '\"'\n",
    "query = \"Select NUM_CARTEIRA,NUM_CNPJ_CPF,REPLACE(TEL1,'{}','') as TEL1, REPLACE(TEL2,'{}','') as TEL2, REPLACE(TEL3,'{}','') as TEL3, REPLACE(TEL4,'{}','') as TEL4, REPLACE(TEL5,'{}','') as TEL5, REPLACE(TEL6,'{}','') as TEL6 from COBMailing.dbo.Unimed_Mailing_PME_Individual with (nolock)\".format(texto,texto,texto,texto,texto,texto)\n",
    "df2 = pd.read_sql(query, cnxn)\n",
    "\n",
    "#print('Consulta executada com sucesso!')"
   ]
  },
  {
   "cell_type": "code",
   "execution_count": 7,
   "id": "b6cbb610",
   "metadata": {},
   "outputs": [
    {
     "name": "stdout",
     "output_type": "stream",
     "text": [
      "<class 'pandas.core.frame.DataFrame'>\n",
      "RangeIndex: 572202 entries, 0 to 572201\n",
      "Data columns (total 8 columns):\n",
      " #   Column        Non-Null Count   Dtype \n",
      "---  ------        --------------   ----- \n",
      " 0   NUM_CARTEIRA  572202 non-null  int64 \n",
      " 1   NUM_CNPJ_CPF  572202 non-null  int64 \n",
      " 2   TEL1          572202 non-null  object\n",
      " 3   TEL2          342383 non-null  object\n",
      " 4   TEL3          181221 non-null  object\n",
      " 5   TEL4          91713 non-null   object\n",
      " 6   TEL5          46168 non-null   object\n",
      " 7   TEL6          24275 non-null   object\n",
      "dtypes: int64(2), object(6)\n",
      "memory usage: 34.9+ MB\n"
     ]
    }
   ],
   "source": [
    "df2.info()"
   ]
  },
  {
   "cell_type": "code",
   "execution_count": 8,
   "id": "3e246783",
   "metadata": {},
   "outputs": [],
   "source": [
    "#Realiza a união de filtragem das duas dataframes\n",
    "\n",
    "dt_completa = pd.merge(df1, df2, on = 'NUM_CARTEIRA')\n",
    "\n",
    "dt_completa = dt_completa\n",
    "\n",
    "dt_final = dt_completa.drop_duplicates(subset=['NUM_CARTEIRA', 'DT_VENC_ENTRADA'])       #dt_completa[['NUM_CARTEIRA','DT_VENC_ENTRADA','VLR_ORIGINAL','VLR_NEGOCIADO','TEL1','TEL2','TEL3','TEL4','TEL5','TEL6',\n",
    "                           #'TEL7','TEL8','TEL9']]\n",
    "\n",
    "dt_final = dt_final[['NUM_CARTEIRA','NUM_CNPJ_CPF','DT_VENC_ENTRADA','VLR_ORIGINAL','VLR_NEGOCIADO','TEL1','TEL2','TEL3','TEL4',\n",
    "                     'TEL5','TEL6']]"
   ]
  },
  {
   "cell_type": "code",
   "execution_count": 9,
   "id": "11aeedfb",
   "metadata": {},
   "outputs": [],
   "source": [
    "#Exibição de parcial da dataframe\n",
    "dt_final.head(100)\n",
    "#Substitui os campos null por 0\n",
    "dt_final = dt_final.replace(np.nan, 0)"
   ]
  },
  {
   "cell_type": "code",
   "execution_count": 10,
   "id": "4a581442",
   "metadata": {},
   "outputs": [],
   "source": [
    "#escreve a dataframe no SQL Server\n",
    "from sqlalchemy import create_engine, event\n",
    "from urllib.parse import quote_plus\n",
    "\n",
    "conn =  'DRIVER={SQL Server};SERVER='+server+';DATABASE='+database+';trusted_connection=true'\n",
    "quoted = quote_plus(conn)\n",
    "new_con = 'mssql+pyodbc:///?odbc_connect={}'.format(quoted)\n",
    "engine = create_engine(new_con)\n",
    "\n",
    "\n",
    "#dt_final.to_sql('Unimed_Acordos_Cliente', engine, if_exists='append', chunksize = None)\n",
    "#dt_completa.to_excel('teste.xlsx')\n",
    "#print('File saved sucessfuly...')"
   ]
  },
  {
   "cell_type": "code",
   "execution_count": 11,
   "id": "2cd8295c",
   "metadata": {},
   "outputs": [],
   "source": [
    "#dt_final.to_sql('Unimed_Acordos_Cliente', engine, if_exists='append', chunksize = None)"
   ]
  },
  {
   "cell_type": "code",
   "execution_count": 12,
   "id": "0548d866",
   "metadata": {},
   "outputs": [
    {
     "name": "stdout",
     "output_type": "stream",
     "text": [
      "Total de linhas com erro: 19774\n"
     ]
    }
   ],
   "source": [
    "errLinhas = 0\n",
    "for x, y in dt_final.iterrows():\n",
    "    try: \n",
    "        pd.read_sql(\"insert into Unimed_Acordos_Cliente values ('{}','{}','{}','{}','{}','{}','{}','{}','{}','{}','{}','{}')\".format(x,y[0],y[1],y[2],y[3],y[4],y[5],y[6],y[7],y[8],y[9],y[10]), cnxn)\n",
    "    except TypeError:\n",
    "        errLinhas += 1\n",
    "        \n",
    "    #print (y[4])\n",
    "    \n",
    "    #print(\"insert into Unimed_Acordos_Cliente values ('{}','{}','{}','{}','{}','{}','{}','{}','{}','{}','{}','{}')\".format(x,y[0],y[1],y[2],y[3],y[4],y[5],y[6],y[7],y[8],y[9],y[10]))\n",
    "print('Total de linhas com erro: {}'.format(errLinhas))   \n",
    "    \n",
    "    \n",
    "    "
   ]
  },
  {
   "cell_type": "code",
   "execution_count": null,
   "id": "9b71e8c0",
   "metadata": {},
   "outputs": [],
   "source": []
  }
 ],
 "metadata": {
  "kernelspec": {
   "display_name": "Python 3",
   "language": "python",
   "name": "python3"
  },
  "language_info": {
   "codemirror_mode": {
    "name": "ipython",
    "version": 3
   },
   "file_extension": ".py",
   "mimetype": "text/x-python",
   "name": "python",
   "nbconvert_exporter": "python",
   "pygments_lexer": "ipython3",
   "version": "3.8.8"
  }
 },
 "nbformat": 4,
 "nbformat_minor": 5
}
